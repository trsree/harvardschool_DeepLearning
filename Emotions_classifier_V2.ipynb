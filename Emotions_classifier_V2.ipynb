{
 "cells": [
  {
   "cell_type": "code",
   "execution_count": 1,
   "metadata": {},
   "outputs": [],
   "source": [
    "import pandas as pd\n",
    "import numpy as np\n",
    "import tensorflow as tf\n",
    "import re, string\n",
    "from sklearn.preprocessing import LabelEncoder\n",
    "from tensorflow.keras.layers import Dense, Embedding, GlobalAveragePooling1D\n",
    "from tensorflow.keras import regularizers\n",
    "from tensorflow.keras.layers.experimental.preprocessing import TextVectorization\n",
    "import matplotlib.pyplot as plt\n",
    "from flask import Flask\n",
    "from flask import request, jsonify"
   ]
  },
  {
   "cell_type": "code",
   "execution_count": 3,
   "metadata": {},
   "outputs": [],
   "source": [
    "# Read the training data\n",
    "def read_data(data_path):\n",
    "    df = pd.read_csv(data_path,sep=';',names=['text','emotions'])\n",
    "    #print(train_df['emotions'].value_counts())\n",
    "    #print(train_df.describe())\n",
    "    return df\n",
    "\n",
    "# PreProcess the input data\n",
    "def preProcess_data(input_data):\n",
    "    # Remove and strip HTML tags if any\n",
    "    lowercase = tf.strings.lower(input_data)\n",
    "    stripped_html = tf.strings.regex_replace(lowercase, '<br />', ' ')\n",
    "    return tf.strings.regex_replace(stripped_html,\n",
    "                                    '[%s]' % re.escape(string.punctuation), '')\n",
    "\n",
    "# Find the number of words in the train dataset\n",
    "def num_words():\n",
    "    train_df['num_words'] = train_df['text'].apply(lambda x:len(str(x).split()))\n",
    "    \n",
    "# Encode the output labels to integers\n",
    "# the labelencoder maps the following categories {0: 'anger', 1: 'fear', 2: 'joy', 3:'love', 4: 'sadness', 5:'surprise'}\n",
    "def encodeOutputLabels(labels):\n",
    "    le = LabelEncoder()\n",
    "    int_labels = le.fit_transform(labels)\n",
    "    print(int_labels[:10])\n",
    "    # Convert the intger lables each to binary shape of the given categories\n",
    "    int_cat_lables = np.asarray(tf.keras.utils.to_categorical(int_labels))\n",
    "    #print(int_cat_lables[:10])\n",
    "    return int_cat_lables"
   ]
  },
  {
   "cell_type": "code",
   "execution_count": 4,
   "metadata": {},
   "outputs": [],
   "source": [
    "# Create the RNN Keras Sequential Model  for Text classification\n",
    "def create_model():\n",
    "\n",
    "    # Use the text vectorization layer to normalize, split, and map strings to integers\n",
    "    # Vocabulary size and number of words in a sequence.\n",
    "    vocab_size = 10000\n",
    "    sequence_length = 100\n",
    "    vectorize_layer = TextVectorization(\n",
    "        #standardize=preProcess_data,\n",
    "        max_tokens=vocab_size,\n",
    "        output_mode='int',\n",
    "        output_sequence_length=sequence_length)\n",
    "    # Make a text-only dataset (no labels) and call adapt to build the vocabulary.\n",
    "    vectorize_layer.adapt(preProcessedTrainData)\n",
    "\n",
    "    #Create the Sequential model and build the RNN by adding the layers of text vectorization, word embeddings, STM, with hidden and dense layers\n",
    "    model = tf.keras.Sequential([\n",
    "        vectorize_layer,\n",
    "        tf.keras.layers.Embedding(\n",
    "            input_dim=vocab_size,\n",
    "            output_dim=64,\n",
    "            input_length=sequence_length,\n",
    "            name='embedding'\n",
    "        ),\n",
    "        tf.keras.layers.Bidirectional(tf.keras.layers.LSTM(64, return_sequences=True)),\n",
    "        tf.keras.layers.Bidirectional(tf.keras.layers.LSTM(32)),\n",
    "        tf.keras.layers.Dense(64, activation='relu'),\n",
    "        tf.keras.layers.Dense(6)\n",
    "    ])\n",
    "\n",
    "#     model.compile(loss=tf.keras.losses.CategoricalCrossentropy(from_logits=True),\n",
    "#                   optimizer=tf.keras.optimizers.Adam(1e-4),\n",
    "#                   metrics=['accuracy'])\n",
    "    return model\n"
   ]
  },
  {
   "cell_type": "code",
   "execution_count": 11,
   "metadata": {},
   "outputs": [],
   "source": [
    "# Train the model with train dataset and evaluates for each epoch with validation data\n",
    "def train_model():\n",
    "    epochs = 30\n",
    "    history1 = model.fit(train_dataset.shuffle(2000).batch(128),\n",
    "              epochs=epochs,\n",
    "              validation_data=validation_dataset.batch(128),\n",
    "              verbose=1\n",
    "              )\n",
    "    # history2 = model.fit(validation_dataset.shuffle(1000).batch(128),\n",
    "    #                      epochs=epochs,\n",
    "    #                      validation_data=validation_dataset.batch(128),\n",
    "    #                      verbose=1\n",
    "    #                      )\n",
    "    return history1"
   ]
  },
  {
   "cell_type": "code",
   "execution_count": 12,
   "metadata": {},
   "outputs": [],
   "source": [
    "def model_evaluate():\n",
    "    val_loss, val_accuracy = model.evaluate(preProcessedValData, int_cat_val_lables)\n",
    "    print(\"Validation Loss and Accuracy: \", val_loss, val_accuracy)\n",
    "\n",
    "# Predict the model with the inputs\n",
    "def model_predict(input_data):\n",
    "    print('Model prediction is called')\n",
    "    preProcessedData = preProcess_data(input_data)\n",
    "    predictions = model.predict(preProcessedData)\n",
    "    predict_results = predictions.argmax(axis=1)\n",
    "    print(predict_results)\n",
    "    labels = {0: 'anger', 1: 'fear', 2:'joy', 3: 'love', 4: 'sadness', 5:'surprise'}\n",
    "    actual_results = [labels[elem] for elem in predict_results]\n",
    "    #actual_results = le.inverse_transform(predict_results)\n",
    "    print(actual_results)\n",
    "    return actual_results"
   ]
  },
  {
   "cell_type": "code",
   "execution_count": 13,
   "metadata": {},
   "outputs": [
    {
     "name": "stdout",
     "output_type": "stream",
     "text": [
      "                                                     text emotions\n",
      "count                                               15969    15969\n",
      "unique                                              15969        6\n",
      "top     i still have the wtf feeling and regretful fee...      joy\n",
      "freq                                                    1     5350\n",
      "                                                    text emotions  num_words\n",
      "0                                i didnt feel humiliated  sadness          4\n",
      "1      i can go from feeling so hopeless to so damned...  sadness         21\n",
      "2       im grabbing a minute to post i feel greedy wrong    anger         10\n",
      "3      i am ever feeling nostalgic about the fireplac...     love         18\n",
      "4                                   i am feeling grouchy    anger          4\n",
      "...                                                  ...      ...        ...\n",
      "15995  i just had a very brief time in the beanbag an...  sadness         24\n",
      "15996  i am now turning and i feel pathetic that i am...  sadness         20\n",
      "15997                     i feel strong and good overall      joy          6\n",
      "15998  i feel like this was such a rude comment and i...    anger         14\n",
      "15999  i know a lot but i feel so stupid because i ca...  sadness         15\n",
      "\n",
      "[15969 rows x 3 columns]\n",
      "[4 4 0 3 0 4 5 1 2 3]\n"
     ]
    }
   ],
   "source": [
    "#Fetch the Training data, Preprocess and encode the labels\n",
    "train_data_path = '/Users/sreebalaji/sree/GST/emotions_classification/emotion_dataset/train.txt'\n",
    "train_df = read_data(train_data_path)\n",
    "train_df = train_df.drop_duplicates(['text'])\n",
    "print(train_df.describe())\n",
    "preProcessedTrainData = preProcess_data(train_df['text'])\n",
    "#print(preProcessedTrainData)\n",
    "num_words()\n",
    "print(train_df)\n",
    "le = LabelEncoder()\n",
    "int_cat_train_lables = encodeOutputLabels(train_df['emotions'])\n"
   ]
  },
  {
   "cell_type": "code",
   "execution_count": 14,
   "metadata": {},
   "outputs": [
    {
     "name": "stdout",
     "output_type": "stream",
     "text": [
      "                                            text emotions\n",
      "count                                       1998     1998\n",
      "unique                                      1998        6\n",
      "top     i feel unimportant and small here lately      joy\n",
      "freq                                           1      703\n",
      "tf.Tensor(\n",
      "[b'im feeling quite sad and sorry for myself but ill snap out of it soon'\n",
      " b'i feel like i am still looking at a blank canvas blank pieces of paper'\n",
      " b'i feel like a faithful servant' ...\n",
      " b'i feel its important to share this info for those that experience the same thing'\n",
      " b'i truly feel that if you are passionate enough about something and stay true to yourself you will succeed'\n",
      " b'i feel like i just wanna buy any cute make up i see online or even the one'], shape=(1998,), dtype=string)\n",
      "[4 4 3 0 2 2 2 2 2 4]\n"
     ]
    }
   ],
   "source": [
    "#Fetch the Validation data, Preprocess and encode the labels\n",
    "val_data_path = '/Users/sreebalaji/sree/GST/emotions_classification/emotion_dataset/val.txt'\n",
    "val_df = read_data(val_data_path)\n",
    "val_df = val_df.drop_duplicates(['text'])\n",
    "print(val_df.describe())\n",
    "preProcessedValData = preProcess_data(val_df['text'])\n",
    "print(preProcessedValData)\n",
    "int_cat_val_lables = encodeOutputLabels(val_df['emotions'])"
   ]
  },
  {
   "cell_type": "code",
   "execution_count": 15,
   "metadata": {},
   "outputs": [],
   "source": [
    "# Creates a dataset by slicing the 1Dim of given input tensors ( which are features and labels)\n",
    "train_dataset = tf.data.Dataset.from_tensor_slices((preProcessedTrainData, int_cat_train_lables))\n",
    "validation_dataset = tf.data.Dataset.from_tensor_slices((preProcessedValData, int_cat_val_lables))\n"
   ]
  },
  {
   "cell_type": "code",
   "execution_count": 10,
   "metadata": {},
   "outputs": [],
   "source": [
    "model = create_model()\n",
    "model.compile(loss=tf.keras.losses.CategoricalCrossentropy(from_logits=True), optimizer='Nadam', metrics=[\"CategoricalAccuracy\"])"
   ]
  },
  {
   "cell_type": "code",
   "execution_count": 16,
   "metadata": {},
   "outputs": [
    {
     "name": "stdout",
     "output_type": "stream",
     "text": [
      "Epoch 1/30\n",
      "125/125 [==============================] - 28s 225ms/step - loss: 1.4870 - categorical_accuracy: 0.4025 - val_loss: 1.1880 - val_categorical_accuracy: 0.5576\n",
      "Epoch 2/30\n",
      "125/125 [==============================] - 26s 212ms/step - loss: 0.8150 - categorical_accuracy: 0.6975 - val_loss: 0.6798 - val_categorical_accuracy: 0.7663\n",
      "Epoch 3/30\n",
      "125/125 [==============================] - 30s 242ms/step - loss: 0.4169 - categorical_accuracy: 0.8593 - val_loss: 0.4586 - val_categorical_accuracy: 0.8514\n",
      "Epoch 4/30\n",
      "125/125 [==============================] - 27s 214ms/step - loss: 0.2235 - categorical_accuracy: 0.9291 - val_loss: 0.4008 - val_categorical_accuracy: 0.8734\n",
      "Epoch 5/30\n",
      "125/125 [==============================] - 27s 215ms/step - loss: 0.1481 - categorical_accuracy: 0.9536 - val_loss: 0.4396 - val_categorical_accuracy: 0.8779\n",
      "Epoch 6/30\n",
      "125/125 [==============================] - 25s 203ms/step - loss: 0.1146 - categorical_accuracy: 0.9636 - val_loss: 0.4046 - val_categorical_accuracy: 0.8789\n",
      "Epoch 7/30\n",
      "125/125 [==============================] - 26s 204ms/step - loss: 0.0883 - categorical_accuracy: 0.9734 - val_loss: 0.4443 - val_categorical_accuracy: 0.8874\n",
      "Epoch 8/30\n",
      "125/125 [==============================] - 25s 201ms/step - loss: 0.0694 - categorical_accuracy: 0.9787 - val_loss: 0.4062 - val_categorical_accuracy: 0.8859\n",
      "Epoch 9/30\n",
      "125/125 [==============================] - 25s 200ms/step - loss: 0.0611 - categorical_accuracy: 0.9804 - val_loss: 0.4431 - val_categorical_accuracy: 0.8859\n",
      "Epoch 10/30\n",
      "125/125 [==============================] - 24s 194ms/step - loss: 0.0507 - categorical_accuracy: 0.9835 - val_loss: 0.4381 - val_categorical_accuracy: 0.8879\n",
      "Epoch 11/30\n",
      "125/125 [==============================] - 24s 195ms/step - loss: 0.0467 - categorical_accuracy: 0.9852 - val_loss: 0.4687 - val_categorical_accuracy: 0.8899\n",
      "Epoch 12/30\n",
      "125/125 [==============================] - 24s 193ms/step - loss: 0.0393 - categorical_accuracy: 0.9880 - val_loss: 0.4775 - val_categorical_accuracy: 0.8894\n",
      "Epoch 13/30\n",
      "125/125 [==============================] - 24s 194ms/step - loss: 0.0345 - categorical_accuracy: 0.9900 - val_loss: 0.4526 - val_categorical_accuracy: 0.8944\n",
      "Epoch 14/30\n",
      "125/125 [==============================] - 24s 192ms/step - loss: 0.0302 - categorical_accuracy: 0.9909 - val_loss: 0.4587 - val_categorical_accuracy: 0.8954\n",
      "Epoch 15/30\n",
      "125/125 [==============================] - 24s 193ms/step - loss: 0.0217 - categorical_accuracy: 0.9934 - val_loss: 0.5273 - val_categorical_accuracy: 0.8909\n",
      "Epoch 16/30\n",
      "125/125 [==============================] - 24s 193ms/step - loss: 0.0426 - categorical_accuracy: 0.9874 - val_loss: 0.4419 - val_categorical_accuracy: 0.8909\n",
      "Epoch 17/30\n",
      "125/125 [==============================] - 24s 193ms/step - loss: 0.0246 - categorical_accuracy: 0.9924 - val_loss: 0.4841 - val_categorical_accuracy: 0.8989\n",
      "Epoch 18/30\n",
      "125/125 [==============================] - 24s 194ms/step - loss: 0.0192 - categorical_accuracy: 0.9948 - val_loss: 0.4537 - val_categorical_accuracy: 0.9024\n",
      "Epoch 19/30\n",
      "125/125 [==============================] - 24s 195ms/step - loss: 0.0201 - categorical_accuracy: 0.9934 - val_loss: 0.4871 - val_categorical_accuracy: 0.8964\n",
      "Epoch 20/30\n",
      "125/125 [==============================] - 24s 194ms/step - loss: 0.0266 - categorical_accuracy: 0.9917 - val_loss: 0.4569 - val_categorical_accuracy: 0.9059\n",
      "Epoch 21/30\n",
      "125/125 [==============================] - 24s 195ms/step - loss: 0.0142 - categorical_accuracy: 0.9956 - val_loss: 0.4778 - val_categorical_accuracy: 0.9084\n",
      "Epoch 22/30\n",
      "125/125 [==============================] - 25s 197ms/step - loss: 0.0095 - categorical_accuracy: 0.9971 - val_loss: 0.5243 - val_categorical_accuracy: 0.8944\n",
      "Epoch 23/30\n",
      "125/125 [==============================] - 25s 200ms/step - loss: 0.0131 - categorical_accuracy: 0.9959 - val_loss: 0.5359 - val_categorical_accuracy: 0.9034\n",
      "Epoch 24/30\n",
      "125/125 [==============================] - 24s 195ms/step - loss: 0.0147 - categorical_accuracy: 0.9949 - val_loss: 0.5699 - val_categorical_accuracy: 0.8939\n",
      "Epoch 25/30\n",
      "125/125 [==============================] - 24s 195ms/step - loss: 0.0277 - categorical_accuracy: 0.9917 - val_loss: 0.4868 - val_categorical_accuracy: 0.8954\n",
      "Epoch 26/30\n",
      "125/125 [==============================] - 24s 196ms/step - loss: 0.0151 - categorical_accuracy: 0.9952 - val_loss: 0.5083 - val_categorical_accuracy: 0.9039\n",
      "Epoch 27/30\n",
      "125/125 [==============================] - 25s 200ms/step - loss: 0.0161 - categorical_accuracy: 0.9947 - val_loss: 0.4679 - val_categorical_accuracy: 0.9019\n",
      "Epoch 28/30\n",
      "125/125 [==============================] - 25s 199ms/step - loss: 0.0091 - categorical_accuracy: 0.9968 - val_loss: 0.5120 - val_categorical_accuracy: 0.9064\n",
      "Epoch 29/30\n",
      "125/125 [==============================] - 25s 199ms/step - loss: 0.0096 - categorical_accuracy: 0.9969 - val_loss: 0.5620 - val_categorical_accuracy: 0.8889\n",
      "Epoch 30/30\n",
      "125/125 [==============================] - 26s 205ms/step - loss: 0.0188 - categorical_accuracy: 0.9942 - val_loss: 0.5005 - val_categorical_accuracy: 0.9044\n"
     ]
    }
   ],
   "source": [
    "# Lets Train the model, the RNN model is built only after it sees the train data in training phase.\n",
    "history = train_model()"
   ]
  },
  {
   "cell_type": "code",
   "execution_count": 17,
   "metadata": {},
   "outputs": [
    {
     "name": "stdout",
     "output_type": "stream",
     "text": [
      "Model: \"sequential\"\n",
      "_________________________________________________________________\n",
      "Layer (type)                 Output Shape              Param #   \n",
      "=================================================================\n",
      "text_vectorization (TextVect (None, 100)               0         \n",
      "_________________________________________________________________\n",
      "embedding (Embedding)        (None, 100, 64)           640000    \n",
      "_________________________________________________________________\n",
      "bidirectional (Bidirectional (None, 100, 128)          66048     \n",
      "_________________________________________________________________\n",
      "bidirectional_1 (Bidirection (None, 64)                41216     \n",
      "_________________________________________________________________\n",
      "dense (Dense)                (None, 64)                4160      \n",
      "_________________________________________________________________\n",
      "dense_1 (Dense)              (None, 6)                 390       \n",
      "=================================================================\n",
      "Total params: 751,814\n",
      "Trainable params: 751,814\n",
      "Non-trainable params: 0\n",
      "_________________________________________________________________\n"
     ]
    }
   ],
   "source": [
    "model.summary()"
   ]
  },
  {
   "cell_type": "code",
   "execution_count": 18,
   "metadata": {},
   "outputs": [
    {
     "data": {
      "text/plain": [
       "{'loss': [1.4870243072509766,\n",
       "  0.8150189518928528,\n",
       "  0.4169076085090637,\n",
       "  0.22353526949882507,\n",
       "  0.14810852706432343,\n",
       "  0.11458078026771545,\n",
       "  0.08826181292533875,\n",
       "  0.06937796622514725,\n",
       "  0.06112613156437874,\n",
       "  0.05068317800760269,\n",
       "  0.0467182993888855,\n",
       "  0.039302073419094086,\n",
       "  0.03451371192932129,\n",
       "  0.030155127868056297,\n",
       "  0.02173917181789875,\n",
       "  0.04255218431353569,\n",
       "  0.024625182151794434,\n",
       "  0.019246933981776237,\n",
       "  0.020087910816073418,\n",
       "  0.026558147743344307,\n",
       "  0.014212951064109802,\n",
       "  0.009483927860856056,\n",
       "  0.013118904083967209,\n",
       "  0.014732579700648785,\n",
       "  0.027700789272785187,\n",
       "  0.015081721358001232,\n",
       "  0.016089878976345062,\n",
       "  0.009114313870668411,\n",
       "  0.009644631296396255,\n",
       "  0.01882467046380043],\n",
       " 'categorical_accuracy': [0.40252989530563354,\n",
       "  0.6974763870239258,\n",
       "  0.8592898845672607,\n",
       "  0.9291126728057861,\n",
       "  0.9535976052284241,\n",
       "  0.9635543823242188,\n",
       "  0.9734485745429993,\n",
       "  0.9787087440490723,\n",
       "  0.9803995490074158,\n",
       "  0.983530580997467,\n",
       "  0.9851587414741516,\n",
       "  0.9880393147468567,\n",
       "  0.9899805784225464,\n",
       "  0.9908573031425476,\n",
       "  0.9934247732162476,\n",
       "  0.9874131083488464,\n",
       "  0.9923601746559143,\n",
       "  0.9948024153709412,\n",
       "  0.9934247732162476,\n",
       "  0.991733968257904,\n",
       "  0.9955539107322693,\n",
       "  0.997056782245636,\n",
       "  0.9958670139312744,\n",
       "  0.9948650598526001,\n",
       "  0.9916713833808899,\n",
       "  0.9951781630516052,\n",
       "  0.9946771860122681,\n",
       "  0.9968063235282898,\n",
       "  0.996868908405304,\n",
       "  0.9942388534545898],\n",
       " 'val_loss': [1.1880486011505127,\n",
       "  0.6798486709594727,\n",
       "  0.45859020948410034,\n",
       "  0.4007888734340668,\n",
       "  0.4396459460258484,\n",
       "  0.4046349823474884,\n",
       "  0.44429126381874084,\n",
       "  0.4061739146709442,\n",
       "  0.4431113600730896,\n",
       "  0.4381108582019806,\n",
       "  0.46870869398117065,\n",
       "  0.47753164172172546,\n",
       "  0.4525883197784424,\n",
       "  0.458711713552475,\n",
       "  0.5272664427757263,\n",
       "  0.44189488887786865,\n",
       "  0.4840691089630127,\n",
       "  0.4536910951137543,\n",
       "  0.48709726333618164,\n",
       "  0.4569075405597687,\n",
       "  0.4778495728969574,\n",
       "  0.5243051648139954,\n",
       "  0.5359288454055786,\n",
       "  0.569879949092865,\n",
       "  0.48676785826683044,\n",
       "  0.5083367824554443,\n",
       "  0.4678893983364105,\n",
       "  0.51203453540802,\n",
       "  0.5619751214981079,\n",
       "  0.5004702210426331],\n",
       " 'val_categorical_accuracy': [0.5575575828552246,\n",
       "  0.7662662863731384,\n",
       "  0.8513513803482056,\n",
       "  0.8733733892440796,\n",
       "  0.8778778910636902,\n",
       "  0.8788788914680481,\n",
       "  0.8873873949050903,\n",
       "  0.8858858942985535,\n",
       "  0.8858858942985535,\n",
       "  0.8878878951072693,\n",
       "  0.8898898959159851,\n",
       "  0.8893893957138062,\n",
       "  0.8943943977355957,\n",
       "  0.8953953981399536,\n",
       "  0.890890896320343,\n",
       "  0.890890896320343,\n",
       "  0.8988988995552063,\n",
       "  0.902402400970459,\n",
       "  0.8963963985443115,\n",
       "  0.9059059023857117,\n",
       "  0.9084084033966064,\n",
       "  0.8943943977355957,\n",
       "  0.9034034013748169,\n",
       "  0.8938938975334167,\n",
       "  0.8953953981399536,\n",
       "  0.9039039015769958,\n",
       "  0.90190190076828,\n",
       "  0.9064064025878906,\n",
       "  0.8888888955116272,\n",
       "  0.9044044017791748]}"
      ]
     },
     "execution_count": 18,
     "metadata": {},
     "output_type": "execute_result"
    }
   ],
   "source": [
    "history.history"
   ]
  },
  {
   "cell_type": "code",
   "execution_count": 19,
   "metadata": {},
   "outputs": [
    {
     "data": {
      "image/png": "[encoded data removed]",
      "text/plain": [
       "<Figure size 432x288 with 1 Axes>"
      ]
     },
     "metadata": {
      "needs_background": "light"
     },
     "output_type": "display_data"
    }
   ],
   "source": [
    "# Plot the Loss and categorical accuracy of train and validation datasets\n",
    "plt.plot(history.history['loss'], label=' training data')\n",
    "plt.plot(history.history['val_loss'], label='validation data)')\n",
    "plt.title('Loss for Text Classification')\n",
    "plt.ylabel('Loss value')\n",
    "plt.xlabel('No. epoch')\n",
    "plt.legend(loc=\"upper left\")\n",
    "plt.show()"
   ]
  },
  {
   "cell_type": "code",
   "execution_count": 20,
   "metadata": {},
   "outputs": [
    {
     "data": {
      "image/png": "[encoded data removed]",
      "text/plain": [
       "<Figure size 432x288 with 1 Axes>"
      ]
     },
     "metadata": {
      "needs_background": "light"
     },
     "output_type": "display_data"
    }
   ],
   "source": [
    "plt.plot(history.history['categorical_accuracy'], label=' (training data)')\n",
    "plt.plot(history.history['val_categorical_accuracy'], label='CategoricalCrossentropy (validation data)')\n",
    "plt.title('CategoricalAccuracy for Text Classification')\n",
    "plt.ylabel('CategoricalAccuracy value')\n",
    "plt.xlabel('No. epoch')\n",
    "plt.legend(loc=\"upper left\")\n",
    "plt.show()"
   ]
  },
  {
   "cell_type": "code",
   "execution_count": 22,
   "metadata": {},
   "outputs": [
    {
     "name": "stdout",
     "output_type": "stream",
     "text": [
      "Model prediction is called\n",
      "[4 4 4 2 4 1]\n",
      "['sadness', 'sadness', 'sadness', 'joy', 'sadness', 'fear']\n"
     ]
    },
    {
     "data": {
      "text/plain": [
       "['sadness', 'sadness', 'sadness', 'joy', 'sadness', 'fear']"
      ]
     },
     "execution_count": 22,
     "metadata": {},
     "output_type": "execute_result"
    }
   ],
   "source": [
    "model_predict(['im feeling rather rotten so im not very ambitious right now','im updating my blog because i feel shitty;','i never make her separate from me because i don t ever want her to feel like i m ashamed with her;','i left with my bouquet of red and yellow tulips under my arm feeling slightly more optimistic than when i arrived','i was feeling a little vain when i did this one','i cant walk into a shop anywhere where i do not feel uncomfortable;'])\n"
   ]
  },
  {
   "cell_type": "code",
   "execution_count": 23,
   "metadata": {},
   "outputs": [
    {
     "name": "stdout",
     "output_type": "stream",
     "text": [
      "WARNING:tensorflow:From /opt/anaconda3/lib/python3.7/site-packages/tensorflow/python/training/tracking/tracking.py:111: Model.state_updates (from tensorflow.python.keras.engine.training) is deprecated and will be removed in a future version.\n",
      "Instructions for updating:\n",
      "This property should not be used in TensorFlow 2.0, as updates are applied automatically.\n",
      "WARNING:tensorflow:From /opt/anaconda3/lib/python3.7/site-packages/tensorflow/python/training/tracking/tracking.py:111: Layer.updates (from tensorflow.python.keras.engine.base_layer) is deprecated and will be removed in a future version.\n",
      "Instructions for updating:\n",
      "This property should not be used in TensorFlow 2.0, as updates are applied automatically.\n",
      "INFO:tensorflow:Assets written to: emotion_classifier_model.pb/assets\n"
     ]
    }
   ],
   "source": [
    "model.save('emotion_classifier_model.pb')"
   ]
  },
  {
   "cell_type": "code",
   "execution_count": 25,
   "metadata": {},
   "outputs": [],
   "source": [
    "saved_model = tf.keras.models.load_model('emotion_classifier_model.pb')"
   ]
  },
  {
   "cell_type": "code",
   "execution_count": 3,
   "metadata": {},
   "outputs": [
    {
     "ename": "NameError",
     "evalue": "name 'saved_model' is not defined",
     "output_type": "error",
     "traceback": [
      "\u001b[0;31m---------------------------------------------------------------------------\u001b[0m",
      "\u001b[0;31mNameError\u001b[0m                                 Traceback (most recent call last)",
      "\u001b[0;32m<ipython-input-3-42952937bdcb>\u001b[0m in \u001b[0;36m<module>\u001b[0;34m\u001b[0m\n\u001b[0;32m----> 1\u001b[0;31m \u001b[0mres\u001b[0m \u001b[0;34m=\u001b[0m \u001b[0msaved_model\u001b[0m\u001b[0;34m.\u001b[0m\u001b[0mpredict\u001b[0m\u001b[0;34m(\u001b[0m\u001b[0;34m[\u001b[0m\u001b[0;34m'im feeling rather rotten so im not very ambitious right now'\u001b[0m\u001b[0;34m,\u001b[0m\u001b[0;34m'im updating my blog because i feel shitty;'\u001b[0m\u001b[0;34m,\u001b[0m\u001b[0;34m'i never make her separate from me because i don t ever want her to feel like i m ashamed with her;'\u001b[0m\u001b[0;34m,\u001b[0m\u001b[0;34m'i left with my bouquet of red and yellow tulips under my arm feeling slightly more optimistic than when i arrived'\u001b[0m\u001b[0;34m,\u001b[0m\u001b[0;34m'i was feeling a little vain when i did this one'\u001b[0m\u001b[0;34m,\u001b[0m\u001b[0;34m'i cant walk into a shop anywhere where i do not feel uncomfortable;'\u001b[0m\u001b[0;34m]\u001b[0m\u001b[0;34m)\u001b[0m\u001b[0;34m\u001b[0m\u001b[0;34m\u001b[0m\u001b[0m\n\u001b[0m\u001b[1;32m      2\u001b[0m \u001b[0mpredict_results\u001b[0m \u001b[0;34m=\u001b[0m \u001b[0mres\u001b[0m\u001b[0;34m.\u001b[0m\u001b[0margmax\u001b[0m\u001b[0;34m(\u001b[0m\u001b[0maxis\u001b[0m\u001b[0;34m=\u001b[0m\u001b[0;36m1\u001b[0m\u001b[0;34m)\u001b[0m\u001b[0;34m\u001b[0m\u001b[0;34m\u001b[0m\u001b[0m\n\u001b[1;32m      3\u001b[0m \u001b[0mprint\u001b[0m\u001b[0;34m(\u001b[0m\u001b[0mpredict_results\u001b[0m\u001b[0;34m)\u001b[0m\u001b[0;34m\u001b[0m\u001b[0;34m\u001b[0m\u001b[0m\n\u001b[1;32m      4\u001b[0m \u001b[0mlabels\u001b[0m \u001b[0;34m=\u001b[0m \u001b[0;34m{\u001b[0m\u001b[0;36m0\u001b[0m\u001b[0;34m:\u001b[0m \u001b[0;34m'anger'\u001b[0m\u001b[0;34m,\u001b[0m \u001b[0;36m1\u001b[0m\u001b[0;34m:\u001b[0m \u001b[0;34m'fear'\u001b[0m\u001b[0;34m,\u001b[0m \u001b[0;36m2\u001b[0m\u001b[0;34m:\u001b[0m\u001b[0;34m'joy'\u001b[0m\u001b[0;34m,\u001b[0m \u001b[0;36m3\u001b[0m\u001b[0;34m:\u001b[0m \u001b[0;34m'love'\u001b[0m\u001b[0;34m,\u001b[0m \u001b[0;36m4\u001b[0m\u001b[0;34m:\u001b[0m \u001b[0;34m'sadness'\u001b[0m\u001b[0;34m,\u001b[0m \u001b[0;36m5\u001b[0m\u001b[0;34m:\u001b[0m\u001b[0;34m'surprise'\u001b[0m\u001b[0;34m}\u001b[0m\u001b[0;34m\u001b[0m\u001b[0;34m\u001b[0m\u001b[0m\n\u001b[1;32m      5\u001b[0m \u001b[0mactual_results\u001b[0m \u001b[0;34m=\u001b[0m \u001b[0;34m[\u001b[0m\u001b[0mlabels\u001b[0m\u001b[0;34m[\u001b[0m\u001b[0melem\u001b[0m\u001b[0;34m]\u001b[0m \u001b[0;32mfor\u001b[0m \u001b[0melem\u001b[0m \u001b[0;32min\u001b[0m \u001b[0mpredict_results\u001b[0m\u001b[0;34m]\u001b[0m\u001b[0;34m\u001b[0m\u001b[0;34m\u001b[0m\u001b[0m\n",
      "\u001b[0;31mNameError\u001b[0m: name 'saved_model' is not defined"
     ]
    }
   ],
   "source": [
    "res = saved_model.predict(['im feeling rather rotten so im not very ambitious right now','im updating my blog because i feel shitty;','i never make her separate from me because i don t ever want her to feel like i m ashamed with her;','i left with my bouquet of red and yellow tulips under my arm feeling slightly more optimistic than when i arrived','i was feeling a little vain when i did this one','i cant walk into a shop anywhere where i do not feel uncomfortable;'])\n",
    "predict_results = res.argmax(axis=1)\n",
    "print(predict_results)\n",
    "labels = {0: 'anger', 1: 'fear', 2:'joy', 3: 'love', 4: 'sadness', 5:'surprise'}\n",
    "actual_results = [labels[elem] for elem in predict_results]\n",
    "#actual_results = le.inverse_transform(predict_results)\n",
    "print(actual_results)"
   ]
  },
  {
   "cell_type": "code",
   "execution_count": null,
   "metadata": {},
   "outputs": [],
   "source": []
  }
 ],
 "metadata": {
  "kernelspec": {
   "display_name": "Python 3",
   "language": "python",
   "name": "python3"
  },
  "language_info": {
   "codemirror_mode": {
    "name": "ipython",
    "version": 3
   },
   "file_extension": ".py",
   "mimetype": "text/x-python",
   "name": "python",
   "nbconvert_exporter": "python",
   "pygments_lexer": "ipython3",
   "version": "3.7.6"
  }
 },
 "nbformat": 4,
 "nbformat_minor": 4
}
